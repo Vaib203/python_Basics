{
 "cells": [
  {
   "cell_type": "raw",
   "id": "5cbb2498-0c2e-4800-a396-91b7e6ac70dc",
   "metadata": {},
   "source": [
    "'''1. In the below elements which of them are values or an expression? eg:- values can be\n",
    "integer or string and expressions will be mathematical operators.\n",
    "*\n",
    "&#39;hello&#39;\n",
    "-87.8\n",
    "-\n",
    "/\n",
    "+\n",
    "6\n",
    "Ans:-\n",
    "* = exprssion\n",
    "&#39;hello&#39; = expression\n",
    "-87.8 = value\n",
    "- = expression\n",
    "/ = expression\n",
    "+ = expression\n",
    "6 = value\n",
    "'''"
   ]
  },
  {
   "cell_type": "raw",
   "id": "eb52dd3f-1b02-4c76-bcf2-6cc49935afed",
   "metadata": {},
   "source": [
    "2. What is the difference between string and variable?\n",
    "ans:- A Variable is a store of information, and a String is a type of information you would store in a Variable. A String is usually words, enclosed with \"\"\n"
   ]
  },
  {
   "cell_type": "raw",
   "id": "18ac2a11-7379-42e5-a40a-cebfe207403f",
   "metadata": {},
   "source": [
    "3. Describe three different data types.\n",
    "i)int = It is represented by int class. It can store a positive, negative and whole numbers.\n",
    "for eg:- int =45\n",
    "ii)float - It is represented by float class. It is a real number with floating point representation. It is specified by a decimal point. Optionally, the character e or E followed by a positive or negative integer may be appended to specify scientific notation.\n",
    "for eg:- float=32.3\n",
    "iii) complex numbers:- It is represented by complex class \n",
    "for eg:- 2+3j\n",
    "inthat 2 is real part and 3j is imaginary part\n"
   ]
  },
  {
   "cell_type": "raw",
   "id": "a85cda2f-48c5-44af-9c30-7ac666a994f5",
   "metadata": {},
   "source": [
    "4. What is an expression made up of? What do all expressions do?\n",
    "Ans:- An expression is a combination of values, variables, operators, and calls to functions. Expressions need to be evaluated. It creates a single value"
   ]
  },
  {
   "cell_type": "raw",
   "id": "5a6028aa-ff85-44d8-a8a3-610082c1666a",
   "metadata": {},
   "source": [
    "5. This assignment statements, like spam = 10. What is the difference between an\n",
    "expression and a statement?\n",
    "Ans:- An expression evaluates to a single value. A statement does not."
   ]
  },
  {
   "cell_type": "code",
   "execution_count": 3,
   "id": "fdaf0475-b808-4c3f-88c5-00205b53f792",
   "metadata": {},
   "outputs": [
    {
     "data": {
      "text/plain": [
       "23"
      ]
     },
     "execution_count": 3,
     "metadata": {},
     "output_type": "execute_result"
    }
   ],
   "source": [
    "#6. After running the following code, what does the variable bacon contain?\n",
    "bacon = 22\n",
    "bacon + 1"
   ]
  },
  {
   "cell_type": "raw",
   "id": "fbe37394-d154-411a-9f0e-f10c3a77fb62",
   "metadata": {},
   "source": [
    "bacon contain \"23\""
   ]
  },
  {
   "cell_type": "code",
   "execution_count": 4,
   "id": "e01c02fd-739c-4035-8d57-5b8a4f259027",
   "metadata": {},
   "outputs": [
    {
     "data": {
      "text/plain": [
       "'spamspamspam'"
      ]
     },
     "execution_count": 4,
     "metadata": {},
     "output_type": "execute_result"
    }
   ],
   "source": [
    "#7. What should the values of the following two terms be?\n",
    "'spam'+'spamspam'\n",
    "'spam'*3"
   ]
  },
  {
   "cell_type": "raw",
   "id": "7762f34a-ba85-4b96-856e-11dcc7ba365e",
   "metadata": {},
   "source": [
    "8. Why is eggs a valid variable name while 100 is invalid?\n",
    "Ans:- Variable names cannot begin with a number."
   ]
  },
  {
   "cell_type": "raw",
   "id": "18e7a8ec-e3f8-4f35-8b02-b01a433bb082",
   "metadata": {},
   "source": [
    "9. What three functions can be used to get the integer, floating-point number, or string\n",
    "version of a value?\n",
    "Ans:-The int() , float() , and str( ) functions will evaluate to the integer, floating-point number, and string versions of the value passed to them."
   ]
  },
  {
   "cell_type": "code",
   "execution_count": 17,
   "id": "6c325de8-3c6f-48ce-b106-81d94ddb96ab",
   "metadata": {},
   "outputs": [
    {
     "data": {
      "text/plain": [
       "'i have eaten 99 burritos.'"
      ]
     },
     "execution_count": 17,
     "metadata": {},
     "output_type": "execute_result"
    }
   ],
   "source": [
    "#10. Why does this expression cause an error? How can you fix it?\n",
    "'I have eaten ' + 99 + ' burritos.'\n"
   ]
  },
  {
   "cell_type": "code",
   "execution_count": 18,
   "id": "e11ddab8-5ddd-4713-b38c-d226230f12a5",
   "metadata": {},
   "outputs": [
    {
     "data": {
      "text/plain": [
       "'i have eaten 99 burritos.'"
      ]
     },
     "execution_count": 18,
     "metadata": {},
     "output_type": "execute_result"
    }
   ],
   "source": [
    "#Ans\n",
    "'i have eaten ' + str(99) + ' burritos.'"
   ]
  },
  {
   "cell_type": "code",
   "execution_count": null,
   "id": "af6cdedd-e461-48e7-b3af-ec85ea4e7b97",
   "metadata": {},
   "outputs": [],
   "source": []
  }
 ],
 "metadata": {
  "kernelspec": {
   "display_name": "Python 3 (ipykernel)",
   "language": "python",
   "name": "python3"
  },
  "language_info": {
   "codemirror_mode": {
    "name": "ipython",
    "version": 3
   },
   "file_extension": ".py",
   "mimetype": "text/x-python",
   "name": "python",
   "nbconvert_exporter": "python",
   "pygments_lexer": "ipython3",
   "version": "3.10.6"
  }
 },
 "nbformat": 4,
 "nbformat_minor": 5
}
