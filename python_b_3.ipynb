{
 "cells": [
  {
   "cell_type": "raw",
   "id": "a755196d-e4c5-446d-8e17-2cd244421b8c",
   "metadata": {},
   "source": [
    "1. Why are functions advantageous to have in your programs?\n",
    "Ans:- Functions reduce the need for duplicate code. This makes programs shorter, easier to read, and easier to update."
   ]
  },
  {
   "cell_type": "raw",
   "id": "2c14cd15-734d-4c26-ac06-22e9533080f8",
   "metadata": {},
   "source": [
    "2. When does the code in a function run: when its specified or when it's called?\n",
    "Ans:- When a function is \"called\" the program \"leaves\" the current section of code and begins to execute the first line inside the function."
   ]
  },
  {
   "cell_type": "raw",
   "id": "46f757a7-1eb6-40cc-9431-fa8b7e7fe29b",
   "metadata": {},
   "source": [
    "3. What statement creates a function?\n",
    "Ans:- To create a function, we must first declare it and give it a name, the same way we'd create any variable, and then we follow it by a function definition: var sayHello = function() { };"
   ]
  },
  {
   "cell_type": "raw",
   "id": "2d85c6c3-715e-4662-9c96-60f4863f6249",
   "metadata": {},
   "source": [
    "4. What is the difference between a function and a function call?\n",
    "Ans:- A function is a block of code that does a particular operation and returns a result. It usually accepts inputs as parameters and returns a result. The parameters are not mandatory. A function call is the code used to pass control to a function."
   ]
  },
  {
   "cell_type": "raw",
   "id": "39b55af0-501f-407b-bc22-0d4c82639a0a",
   "metadata": {},
   "source": [
    "5. How many global scopes are there in a Python program? How many local scopes?\n",
    "Ans:- There's only one global Python scope per program execution. At any given time during execution, you'll have at most four active Python scopes—local, enclosing, global, and built-in—depending on where you are in the code."
   ]
  },
  {
   "cell_type": "raw",
   "id": "10cd1dbe-2096-4dc3-a85f-c8531297f217",
   "metadata": {},
   "source": [
    "6. What happens to variables in a local scope when the function call returns?\n",
    "Ans:- Each call of the function creates new local variables, and their lifetimes expire when the function returns to the caller."
   ]
  },
  {
   "cell_type": "raw",
   "id": "67e3e268-e9bc-4499-8956-a20f9d8c171c",
   "metadata": {},
   "source": [
    "7. What is the concept of a return value? Is it possible to have a return value in an expression?\n",
    "Ans:- A return is a value that a function returns to the calling script or function when it completes its task. If the data type of the expression is different from the function return type, conversion of the return value takes place as if the value of the expression were assigned to an object with the same function return type. "
   ]
  },
  {
   "cell_type": "raw",
   "id": "560e6a7f-495e-44bc-986a-0f706de5059c",
   "metadata": {},
   "source": [
    "8. If a function does not have a return statement, what is the return value of a call to that function?\n",
    "Ans:- If no return statement appears in a function definition, control automatically returns to the calling function after the last statement of the called function is executed. In this case, the return value of the called function is undefined."
   ]
  },
  {
   "cell_type": "raw",
   "id": "e15b9ece-116b-4e39-a242-4d8de22d26f6",
   "metadata": {},
   "source": [
    "9. How do you make a function variable refer to the global variable?\n",
    "Ans:- Normally, when you create a variable inside a function, that variable is local, and can only be used inside that function. To create a global variable inside a function, you can use the global keyword."
   ]
  },
  {
   "cell_type": "raw",
   "id": "d9075bbe-359e-4033-8b8e-0ace27019a11",
   "metadata": {},
   "source": [
    "10. What is the data type of None?\n",
    "Ans:- None is a data type of its own (NoneType) and only None can be None."
   ]
  },
  {
   "cell_type": "raw",
   "id": "ecd9c7dd-4722-4c61-9827-2b1fd51ffef9",
   "metadata": {},
   "source": [
    "11. What does the sentence import areallyourpetsnamederic do?\n",
    "Ans:- That import statement imports a module named areallyourpetsnamederic."
   ]
  },
  {
   "cell_type": "raw",
   "id": "0993e5b4-2c0d-4ccb-97b6-da2ec641c2de",
   "metadata": {},
   "source": [
    "12. If you had a bacon() feature in a spam module, what would you call it after importing spam?\n",
    "Ans:- This function can be called with spam.bacon()."
   ]
  },
  {
   "cell_type": "raw",
   "id": "d58c17ff-9f34-4424-bfeb-3066df3f7b89",
   "metadata": {},
   "source": [
    "13. What can you do to save a programme from crashing if it encounters an error?\n",
    "Ans:- Place the line of code that might cause an error in a try clause."
   ]
  },
  {
   "cell_type": "raw",
   "id": "efa69f4e-f7d8-4a12-a7a1-351f4b9268db",
   "metadata": {},
   "source": [
    "14. What is the purpose of the try clause? What is the purpose of the except clause?\n",
    "Ans:- The try block lets you test a block of code for errors. The except block lets you handle the error."
   ]
  }
 ],
 "metadata": {
  "kernelspec": {
   "display_name": "Python 3 (ipykernel)",
   "language": "python",
   "name": "python3"
  },
  "language_info": {
   "codemirror_mode": {
    "name": "ipython",
    "version": 3
   },
   "file_extension": ".py",
   "mimetype": "text/x-python",
   "name": "python",
   "nbconvert_exporter": "python",
   "pygments_lexer": "ipython3",
   "version": "3.10.6"
  }
 },
 "nbformat": 4,
 "nbformat_minor": 5
}
