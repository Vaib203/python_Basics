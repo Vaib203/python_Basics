{
 "cells": [
  {
   "cell_type": "raw",
   "id": "ca314230-e2bc-44b6-a097-1cca986cd8ab",
   "metadata": {},
   "source": [
    "1. What exactly is []?\n",
    "Ans:- This is an empty list"
   ]
  },
  {
   "cell_type": "raw",
   "id": "d06308b2-8099-427d-9e4b-08c855aa1931",
   "metadata": {},
   "source": [
    "2. In a list of values stored in a variable called spam, how would you assign the value \"hello\" as the\n",
    "third value? (Assume [2, 4, 6, 8, 10] are in spam.)\n",
    "Ans:- "
   ]
  },
  {
   "cell_type": "code",
   "execution_count": 1,
   "id": "d71061c7-22ec-4150-b359-a1c3adfa52f6",
   "metadata": {},
   "outputs": [],
   "source": [
    "spam=[2,4,5,8,10]\n",
    "spam.append(\"hello\")"
   ]
  },
  {
   "cell_type": "code",
   "execution_count": 3,
   "id": "794b0764-ee70-4f09-ad41-d888b05a0167",
   "metadata": {},
   "outputs": [
    {
     "name": "stdout",
     "output_type": "stream",
     "text": [
      "[2, 4, 5, 8, 10, 'hello']\n"
     ]
    }
   ],
   "source": [
    "print(spam)"
   ]
  },
  {
   "cell_type": "raw",
   "id": "f1a333ca-f63e-404b-9d42-563dfb8522f3",
   "metadata": {},
   "source": [
    "Q:\t3. What does spam[int(int('3' * 2) // 11)] evaluate to?\n",
    "Spam, integer str block new str 11"
   ]
  },
  {
   "cell_type": "raw",
   "id": "623fedb7-f295-48ab-a4a2-eecb67c21077",
   "metadata": {},
   "source": [
    "Q:\t4. What does spam [-1] evaluate to?\n",
    "Error- python cannot calculate a negative number"
   ]
  },
  {
   "cell_type": "raw",
   "id": "5d6374e3-603c-4303-b8c7-97cdfbbf8f96",
   "metadata": {},
   "source": [
    "Q:\t5. What does spam [:2] evaluate to?\n",
    "The two in the brackets should have another number in front of the double dots\n",
    "For the following three questions, let’s say bacon contains the list [3.14, 'cat', 11, 'cat', True]."
   ]
  },
  {
   "cell_type": "raw",
   "id": "138d3ed6-8206-41f4-a474-eeb559af8c69",
   "metadata": {},
   "source": [
    "Q:\t6. What does bacon.index('cat') evaluate to?\n",
    "bacon contains the list [3.14, 'cat', 11, 'cat', True]."
   ]
  },
  {
   "cell_type": "raw",
   "id": "cbb433aa-f6fa-478b-9fac-02ca0a0d3e48",
   "metadata": {},
   "source": [
    "Q:\t7. What does bacon.append(99) make the list value in bacon look like?\n",
    "bacon contains the list [3.14, 'cat', 11, 'cat', True]."
   ]
  },
  {
   "cell_type": "raw",
   "id": "94163796-6e40-444b-9262-e86f18aedff3",
   "metadata": {},
   "source": [
    "8. How does bacon.remove('cat') change the look of the list in bacon?\n",
    "Ans:- "
   ]
  },
  {
   "cell_type": "raw",
   "id": "2df4ed68-2bb5-4675-ad76-963eede6e747",
   "metadata": {},
   "source": [
    "9. What are the list concatenation and list replication operators?\n",
    "Ans:- The operator for list concatenation is +, while the operator for replication is *."
   ]
  },
  {
   "cell_type": "raw",
   "id": "f40c9ffe-4ad2-4e79-96f1-2fee5e0483fc",
   "metadata": {},
   "source": [
    "10. What is difference between the list methods append() and insert()?\n",
    "Ans:- append() adds an item to the end of a list, whereas . insert() inserts and item in a specified position in the list."
   ]
  },
  {
   "cell_type": "raw",
   "id": "2b1ab16e-3972-4afe-8bc1-9296b7c5831b",
   "metadata": {},
   "source": [
    "11. What are the two methods for removing items from a list?\n",
    "Ans:- The methods are remove() and pop()"
   ]
  },
  {
   "cell_type": "raw",
   "id": "683f82b6-78e6-4ba7-a391-527ccd0847b2",
   "metadata": {},
   "source": [
    "12. Describe how list values and string values are identical.\n",
    "Ans:- The similarity between Lists and Strings in Python is that both are sequences. The differences between them are that firstly, Lists are mutable but Strings are immutable. Secondly, elements of a list can be of different types whereas a String only contains characters that are all of String type."
   ]
  },
  {
   "cell_type": "raw",
   "id": "318a159b-bd96-4102-ba02-cc8eb4ab95d6",
   "metadata": {},
   "source": [
    "13. What are the difference between tuples and lists?\n",
    "Ans:-The tuples are immutable as opposed to lists which are mutable. Therefore, it is possible to change a list but not a tuple."
   ]
  },
  {
   "cell_type": "raw",
   "id": "a18590df-2d95-4e26-8b4e-105a29f35738",
   "metadata": {},
   "source": [
    "14. How do you type a tuple value that only contains the integer 42?\n",
    "Ans:- (42,) (The trailing comma is mandatory.)"
   ]
  },
  {
   "cell_type": "raw",
   "id": "006799e2-1b19-4cfb-adb2-7634445fffcc",
   "metadata": {},
   "source": [
    "15. How do you get a list value's tuple form? How do you get a tuple value's list form?\n",
    "Ans:- Using the tuple() built-in function\n",
    "An iterable can be passed as an input to the tuple () function, which will convert it to a tuple object. "
   ]
  },
  {
   "cell_type": "raw",
   "id": "6c8d5249-74ee-46f9-bd00-ec664e87da0b",
   "metadata": {},
   "source": [
    "16. Variables that contain list values are not necessarily lists themselves. Instead, what do they\n",
    "contain?\n",
    "Ans:- Variables will contain references to list values rather than list values themselves. But for strings and integer values, variables simply contain the string or integer value."
   ]
  },
  {
   "cell_type": "raw",
   "id": "d1006797-e8e2-47e3-89b8-d1dfcbcd6312",
   "metadata": {},
   "source": [
    "17. How do you distinguish between copy.copy() and copy.deepcopy()?\n",
    "Ans:-copy() create reference to original object. If you change copied object - you change the original object. . deepcopy() creates new object and does real copying of original object to new one."
   ]
  }
 ],
 "metadata": {
  "kernelspec": {
   "display_name": "Python 3 (ipykernel)",
   "language": "python",
   "name": "python3"
  },
  "language_info": {
   "codemirror_mode": {
    "name": "ipython",
    "version": 3
   },
   "file_extension": ".py",
   "mimetype": "text/x-python",
   "name": "python",
   "nbconvert_exporter": "python",
   "pygments_lexer": "ipython3",
   "version": "3.10.6"
  }
 },
 "nbformat": 4,
 "nbformat_minor": 5
}
