{
 "cells": [
  {
   "cell_type": "raw",
   "id": "69aad981-d62b-48e2-9668-a4be512a6077",
   "metadata": {},
   "source": [
    "1. What are escape characters, and how do you use them?\n",
    "Ans:- To insert characters that are illegal in a string, use an escape character. An escape character is a backslash \\ followed by the character you want to insert."
   ]
  },
  {
   "cell_type": "raw",
   "id": "5888ac2e-7974-4147-b83a-9f3fb64aa566",
   "metadata": {},
   "source": [
    "2. What do the escape characters n and t stand for?\n",
    "Ans:- newline (\\n) and tab (\\t)"
   ]
  },
  {
   "cell_type": "raw",
   "id": "7e04f4f1-fbfd-4181-8149-8bdcafaddce6",
   "metadata": {},
   "source": [
    "3. What is the way to include backslash characters in a string?\n",
    "Ans:- var s = \"\\\\Tasks\";\n",
    "// or \n",
    "var s = @\"\\Tasks\";\n"
   ]
  },
  {
   "cell_type": "raw",
   "id": "84bee26b-9819-40a4-a413-c914794582c9",
   "metadata": {},
   "source": [
    "4. The string \"Howl's Moving Castle\"  is a correct value. Why isn't the single quote character in the\n",
    "word Howl's not escaped a problem?\n",
    "Ans:- The single quote in Howl's is fine because you've used double quotes to mark the beginning and end of the string."
   ]
  },
  {
   "cell_type": "raw",
   "id": "56dd85c1-7041-4c64-bfa9-53bd7d2bcbfc",
   "metadata": {},
   "source": [
    "5. How do you write a string of newlines if you don't want to use the n character?\n",
    "Ans:- A backlash"
   ]
  },
  {
   "cell_type": "code",
   "execution_count": 7,
   "id": "9712581f-4b93-4ae3-ba0d-f4e8e8016890",
   "metadata": {},
   "outputs": [
    {
     "data": {
      "text/plain": [
       "'e'"
      ]
     },
     "execution_count": 7,
     "metadata": {},
     "output_type": "execute_result"
    }
   ],
   "source": [
    "#6. What are the values of the given expressions?\n",
    "'Hello, world!'[1]"
   ]
  },
  {
   "cell_type": "code",
   "execution_count": 3,
   "id": "6052dddc-5ac5-4ce2-9c58-b05bcb1149ae",
   "metadata": {},
   "outputs": [
    {
     "data": {
      "text/plain": [
       "'Hello'"
      ]
     },
     "execution_count": 3,
     "metadata": {},
     "output_type": "execute_result"
    }
   ],
   "source": [
    "'Hello, world!'[0:5]"
   ]
  },
  {
   "cell_type": "code",
   "execution_count": 4,
   "id": "a060eea8-d0d4-475f-a7f1-b61ff048ef6f",
   "metadata": {},
   "outputs": [
    {
     "data": {
      "text/plain": [
       "'Hello'"
      ]
     },
     "execution_count": 4,
     "metadata": {},
     "output_type": "execute_result"
    }
   ],
   "source": [
    "'Hello, world!'[:5]"
   ]
  },
  {
   "cell_type": "code",
   "execution_count": 5,
   "id": "c5f74adc-1746-4cfd-a08c-9c648e89df21",
   "metadata": {},
   "outputs": [
    {
     "data": {
      "text/plain": [
       "'lo, world!'"
      ]
     },
     "execution_count": 5,
     "metadata": {},
     "output_type": "execute_result"
    }
   ],
   "source": [
    "'Hello, world!'[3:]"
   ]
  },
  {
   "cell_type": "raw",
   "id": "74d3672a-b509-4a8d-9ea1-14b2bd596236",
   "metadata": {},
   "source": [
    "7. What are the values of the following expressions?\n",
    "'hello'.upper()\n",
    "'hello'.upper().isupper()\n",
    "'hello'.upper().islower()"
   ]
  },
  {
   "cell_type": "code",
   "execution_count": 12,
   "id": "733219d4-d196-428d-8055-51c13598c8e6",
   "metadata": {},
   "outputs": [
    {
     "data": {
      "text/plain": [
       "'HELLO'"
      ]
     },
     "execution_count": 12,
     "metadata": {},
     "output_type": "execute_result"
    }
   ],
   "source": [
    "'hello'.upper()"
   ]
  },
  {
   "cell_type": "code",
   "execution_count": 10,
   "id": "b2c8272b-c1a1-4938-80fb-e98949e5d19b",
   "metadata": {},
   "outputs": [
    {
     "data": {
      "text/plain": [
       "True"
      ]
     },
     "execution_count": 10,
     "metadata": {},
     "output_type": "execute_result"
    }
   ],
   "source": [
    "'hello'.upper().isupper()"
   ]
  },
  {
   "cell_type": "code",
   "execution_count": 11,
   "id": "2bdfdd6f-ca80-449b-a359-95b5815ac738",
   "metadata": {},
   "outputs": [
    {
     "data": {
      "text/plain": [
       "False"
      ]
     },
     "execution_count": 11,
     "metadata": {},
     "output_type": "execute_result"
    }
   ],
   "source": [
    "'hello'.upper().islower()"
   ]
  },
  {
   "cell_type": "raw",
   "id": "a05046bf-23e2-4854-8338-4598ace9b9b9",
   "metadata": {},
   "source": [
    "8. What are the values of the following expressions?\n",
    "'Remember, remember, the fifth of july.'.split()\n",
    "'-'.join('There can only one.'.split())"
   ]
  },
  {
   "cell_type": "code",
   "execution_count": 14,
   "id": "a9d7f1a9-ac3d-42b2-84a0-320409803dc9",
   "metadata": {},
   "outputs": [
    {
     "data": {
      "text/plain": [
       "['Remember,', 'remember,', 'the', 'fifth', 'of', 'july.']"
      ]
     },
     "execution_count": 14,
     "metadata": {},
     "output_type": "execute_result"
    }
   ],
   "source": [
    "'Remember, remember, the fifth of july.'.split()"
   ]
  },
  {
   "cell_type": "code",
   "execution_count": 15,
   "id": "95428e94-c2ee-4263-a12a-a5ae38520e95",
   "metadata": {},
   "outputs": [
    {
     "data": {
      "text/plain": [
       "'There-can-only-one.'"
      ]
     },
     "execution_count": 15,
     "metadata": {},
     "output_type": "execute_result"
    }
   ],
   "source": [
    "'-'.join('There can only one.'.split())"
   ]
  },
  {
   "cell_type": "raw",
   "id": "305a4658-4ecd-4e72-bf68-538dfb221933",
   "metadata": {},
   "source": [
    "9. What are the methods for right-justifying, left-justifying, and centering a string?\n",
    "Ans:- The methods are ljust(), rjust(), center()"
   ]
  },
  {
   "cell_type": "raw",
   "id": "9cefcdc3-2adc-497e-98c5-6352b367301d",
   "metadata": {},
   "source": [
    "10. What is the best way to remove whitespace characters from the start or end?\n",
    "Ans:- Use the . strip() method to remove whitespace and characters from the beginning and the end of a string. Use the . lstrip() method to remove whitespace and characters only from the beginning of a string."
   ]
  }
 ],
 "metadata": {
  "kernelspec": {
   "display_name": "Python 3 (ipykernel)",
   "language": "python",
   "name": "python3"
  },
  "language_info": {
   "codemirror_mode": {
    "name": "ipython",
    "version": 3
   },
   "file_extension": ".py",
   "mimetype": "text/x-python",
   "name": "python",
   "nbconvert_exporter": "python",
   "pygments_lexer": "ipython3",
   "version": "3.10.6"
  }
 },
 "nbformat": 4,
 "nbformat_minor": 5
}
