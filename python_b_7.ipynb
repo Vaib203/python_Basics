{
 "cells": [
  {
   "cell_type": "raw",
   "id": "560f7c7a-166d-4182-bf0e-8ccd68fe9e94",
   "metadata": {},
   "source": [
    "1. What is the name of the feature responsible for generating Regex objects?\n",
    "Ans:- The re. compile() function returns Regex objects."
   ]
  },
  {
   "cell_type": "raw",
   "id": "6ea43611-0b3d-4103-ba9e-9dd6876ec1aa",
   "metadata": {},
   "source": [
    "2. Why do raw strings often appear in Regex objects?\n",
    "Ans:- Raw strings are used so that backslashes do not have to be escaped."
   ]
  },
  {
   "cell_type": "raw",
   "id": "301a539d-553a-4531-9027-87c528df16a4",
   "metadata": {},
   "source": [
    "3. What is the return value of the search() method?\n",
    "Ans:- The search() method returns the index (position) of the first match."
   ]
  },
  {
   "cell_type": "raw",
   "id": "24e2c0d6-8049-4659-871a-f7f7cdaaa714",
   "metadata": {},
   "source": [
    "4. From a Match item, how do you get the actual strings that match the pattern?\n",
    "Ans:- The group() method returns strings of the matched text."
   ]
  },
  {
   "cell_type": "raw",
   "id": "8dab1b9e-594d-4f1e-bfd4-a97db9251427",
   "metadata": {},
   "source": [
    "5. In the regex which created from the r'(\\d\\d\\d)-(\\d\\d\\d-\\d\\d\\d\\d), what does group zero cover?\n",
    "Group 2? Group 1?\n",
    "Ans:- Group 0 is the entire match, group 1 covers the first set of parentheses, and group 2 covers the second set of parentheses."
   ]
  },
  {
   "cell_type": "raw",
   "id": "0ceef2a6-53a7-434a-b35d-da1f7688bd0d",
   "metadata": {},
   "source": [
    "6. In standard expression syntax, parentheses and intervals have distinct meanings. How can you tell\n",
    "a regex that you want it to fit real parentheses and periods?\n",
    "Ans:- Periods and parentheses can be escaped with a backslash: \\., \\(, and \\)."
   ]
  },
  {
   "cell_type": "raw",
   "id": "b28cd454-4af3-488e-8a63-e88f07b75931",
   "metadata": {},
   "source": [
    "7. The findall() method returns a string list or a list of string tuples. What causes it to return one of\n",
    "the two options?\n",
    "Ans:- If the regex has no groups, a list of strings is returned. If the regex has groups, a list of tuples of strings is returned."
   ]
  },
  {
   "cell_type": "raw",
   "id": "e9157c56-8f21-4ea5-9eb9-cda6724bb66a",
   "metadata": {},
   "source": [
    "8. In standard expressions, what does the | character mean?\n",
    "Ans:-"
   ]
  },
  {
   "cell_type": "raw",
   "id": "e86b373a-9cab-4bf2-9e6d-2b7eb303a914",
   "metadata": {},
   "source": [
    "9. In regular expressions, what does the character stand for?\n",
    "Ans:-  A regular expression (shortened as regex or regexp sometimes referred to as rational expression) is a sequence of characters that specifies a search pattern in text. "
   ]
  },
  {
   "cell_type": "raw",
   "id": "94b04f2a-4abf-45d0-aec1-1b2df7d9bc73",
   "metadata": {},
   "source": [
    "10.In regular expressions, what is the difference between the + and * characters?\n",
    "Ans:- * means zero-or-more, and + means one-or-more. So the difference is that the empty string would match the second expression but not the first."
   ]
  },
  {
   "cell_type": "raw",
   "id": "8f3978df-dc33-4546-b5bc-b08e41bb10b2",
   "metadata": {},
   "source": [
    "12. What do you mean by the \\d, \\w, and \\s shorthand character classes signify in regular\n",
    "expressions?\n",
    "Ans:- The \\D, \\W, and \\S shorthand character classes match a single character that is not a digit, word, or space character, respectively."
   ]
  },
  {
   "cell_type": "raw",
   "id": "7ff94427-77e3-4311-a8dd-42148cbb388e",
   "metadata": {},
   "source": [
    "13. What do means by \\D, \\W, and \\S shorthand character classes signify in regular expressions?\n",
    "Ans:- The \\D, \\W, and \\S shorthand character classes match a single character that is not a digit, word, or space character, respectively."
   ]
  },
  {
   "cell_type": "raw",
   "id": "a6004cc5-de8e-4f8c-bb42-aa33f9e7d391",
   "metadata": {},
   "source": [
    "14. What is the difference between .*? and .*?\n",
    "Ans:- *? is non-greedy. * will match nothing, but then will try to match extra characters until it matches 1 , eventually matching 101 . All quantifiers have a non-greedy mode: . *? , ."
   ]
  },
  {
   "cell_type": "raw",
   "id": "7d536bf3-e4da-4379-a78a-53cd3a903b0f",
   "metadata": {},
   "source": [
    "15. What is the syntax for matching both numbers and lowercase letters with a character class?\n",
    "Ans:- "
   ]
  },
  {
   "cell_type": "raw",
   "id": "7df20ec8-287e-440b-ad25-978834aa4834",
   "metadata": {},
   "source": [
    "16. What is the procedure for making a normal expression in regax case insensitive?\n",
    "Ans:- This flag allows for case-insensitive matching of the Regular Expression with the given string i.e. expressions like [A-Z] will match lowercase letters, too. Generally, It's passed as an optional argument to re. compile()."
   ]
  },
  {
   "cell_type": "raw",
   "id": "e88733e4-13bf-4224-b2d4-532dc9a6bb91",
   "metadata": {},
   "source": [
    "17. What does the . character normally match? What does it match if re.DOTALL is passed as 2nd\n",
    "argument in re.compile()?\n",
    "Ans:- character normally matches any character except the newline character. If re. DOTALL is passed as the second argument to re. compile(), then the dot will also match newline characters."
   ]
  },
  {
   "cell_type": "raw",
   "id": "8d704751-c43d-4ea2-9c64-e02ed1a96cf9",
   "metadata": {},
   "source": [
    "18. If numReg = re.compile(r'\\d+'), what will numRegex.sub('X',11 drummers, 10 pipers, five rings, 4 \n",
    "hen') return?\n",
    "Ans:- X drummers, X pipers, five rings, X hens"
   ]
  },
  {
   "cell_type": "raw",
   "id": "20993e48-1ae0-41fa-adc3-c16f6462be00",
   "metadata": {},
   "source": [
    "19. What does passing re.VERBOSE as the 2nd argument to re.compile() allow to do?\n",
    "Ans:- To ignore whitespace and comments inside the regular expression string."
   ]
  },
  {
   "cell_type": "raw",
   "id": "4beb83c4-0a4e-46ba-860d-fa4e4a83817d",
   "metadata": {},
   "source": [
    "20. How would you write a regex that match a number with comma for every three digits? It must\n",
    "match the given following:\n",
    "'42'\n",
    "'1,234'\n",
    "'6,368,745'\n",
    "\n",
    "but not the following:\n",
    "'12,34,567' (which has only two digits between the commas)\n",
    "'1234' (which lacks commas)\n",
    "Ans:- numCommas = re.compile(r'(^\\d{1,3})(,\\d{3})*$') numCommas.search('12,34,567').group()"
   ]
  },
  {
   "cell_type": "raw",
   "id": "c796fe5a-72ba-426b-9eef-7a6f444bb267",
   "metadata": {},
   "source": [
    "21. How would you write a regex that matches the full name of someone whose last name is\n",
    "Watanabe? You can assume that the first name that comes before it will always be one word that\n",
    "begins with a capital letter. The regex must match the following:\n",
    "'Satoshi Nakamoto'\n",
    "\n",
    "'Alice Nakamoto'\n",
    "\n",
    "'Robocop Nakamoto'\n",
    "\n",
    "but not the following:\n",
    "\n",
    "'satoshi Nakamoto' (where the first name is not capitalized)\n",
    "\n",
    "'Mr. Nakamoto' (where the preceding word has a nonletter character)\n",
    "\n",
    "'Nakamoto' (which has no first name)\n",
    "\n",
    "'Satoshi nakamoto' (where Nakamoto is not capitalized)\n",
    "Ans:- fullName = re.compile(r'[A-Z]\\w [A-Z]\\w') mo = fullName.findall('Satoshi Nakamoto, satoshi Nakamoto, Alice Nakamoto, Nakamoto, Satoshi nakamoto, Robocop Nakamoto') mo.group()"
   ]
  },
  {
   "cell_type": "raw",
   "id": "b8ce7f03-3940-4868-989b-267ca82d1990",
   "metadata": {},
   "source": [
    "Q22. How would you write a regex that matches a sentence where the first word is either Alice, Bob, or Carol; the second word is either eats, pets, or throws; the third word is apples, cats, or baseballs; and the sentence ends with a period? This regex should be case-insensitive. It must match the following:\n",
    "\n",
    "'Alice eats apples.'\n",
    "\n",
    "'Bob pets cats.'\n",
    "\n",
    "'Carol throws baseballs.'\n",
    "\n",
    "'Alice throws Apples.'\n",
    "\n",
    "'BOB EATS CATS.'\n",
    "\n",
    "but not the following:\n",
    "\n",
    "'Robocop eats apples.'\n",
    "\n",
    "'ALICE THROWS FOOTBALLS.'\n",
    "\n",
    "'Carol eats 7 cats.'\n",
    "Ans:- senRegex = re.compile(r'(Alice|Bob|Carol)\\s(eats|pets|throws)\\s(apples|cats|baseballs).', re.I|re.DOTALL)\n",
    "\n",
    "senRegex.findall('''Alice eats apples.'\n",
    "\n",
    "'Bob pets cats.'\n",
    "\n",
    "'Carol throws baseballs.'\n",
    "\n",
    "'Alice throws Apples.'\n",
    "\n",
    "'BOB EATS CATS.'\n",
    "\n",
    "but not the following:\n",
    "\n",
    "'Robocop eats apples.'\n",
    "\n",
    "'ALICE THROWS FOOTBALLS.'\n",
    "\n",
    "'Carol eats 7 cats.''')\n",
    "\n",
    "Test result: [('Alice', 'eats', 'apples'), ('Bob', 'pets', 'cats'), ('Carol', 'throws', 'baseballs'), ('Alice', 'throws', 'Apples'), ('BOB', 'EATS', 'CATS')] "
   ]
  },
  {
   "cell_type": "code",
   "execution_count": null,
   "id": "3cdf334c-2921-4350-ad40-a01e4f615463",
   "metadata": {},
   "outputs": [],
   "source": [
    "enRegex = re.compile(r'(Alice|Bob|Carol)\\s(eats|pets|throws)\\s(apples|cats|baseballs).', re.I|re.DOTALL)\n",
    "\n",
    "senRegex.findall('''Alice eats apples.'\n",
    "\n",
    "'Bob pets cats.'\n",
    "\n",
    "'Carol throws baseballs.'\n",
    "\n",
    "'Alice throws Apples.'\n",
    "\n",
    "'BOB EATS CATS.'\n",
    "\n",
    "but not the following:\n",
    "\n",
    "'Robocop eats apples.'\n",
    "\n",
    "'ALICE THROWS FOOTBALLS.'\n",
    "\n",
    "'Carol eats 7 cats.''')\n",
    "\n",
    "Test result: [('Alice', 'eats', 'apples'), ('Bob', 'pets', 'cats'), ('Carol', 'throws', 'baseballs'), ('Alice', 'throws', 'Apples'), ('BOB', 'EATS', 'CATS')]"
   ]
  }
 ],
 "metadata": {
  "kernelspec": {
   "display_name": "Python 3 (ipykernel)",
   "language": "python",
   "name": "python3"
  },
  "language_info": {
   "codemirror_mode": {
    "name": "ipython",
    "version": 3
   },
   "file_extension": ".py",
   "mimetype": "text/x-python",
   "name": "python",
   "nbconvert_exporter": "python",
   "pygments_lexer": "ipython3",
   "version": "3.10.6"
  }
 },
 "nbformat": 4,
 "nbformat_minor": 5
}
