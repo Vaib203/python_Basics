{
 "cells": [
  {
   "cell_type": "raw",
   "id": "6eea8975-1002-4e1a-920b-17936f621966",
   "metadata": {},
   "source": [
    "1. Write a Python program to print \"Hello Python\"?"
   ]
  },
  {
   "cell_type": "code",
   "execution_count": 2,
   "id": "1cbe37da-6740-45ac-a003-55f15d91d545",
   "metadata": {},
   "outputs": [
    {
     "name": "stdout",
     "output_type": "stream",
     "text": [
      "Hello Python\n"
     ]
    }
   ],
   "source": [
    "print(\"Hello Python\")"
   ]
  },
  {
   "cell_type": "raw",
   "id": "48695312-0fb5-4733-ad7e-fb6860493336",
   "metadata": {},
   "source": [
    "2. Write a Python program to do arithmetical operations addition and division.?"
   ]
  },
  {
   "cell_type": "code",
   "execution_count": 3,
   "id": "820cb60b-0841-4776-a047-f3957e0cf54b",
   "metadata": {},
   "outputs": [],
   "source": [
    "a=5\n",
    "b=5\n",
    "c=a+b\n",
    "d=a/b"
   ]
  },
  {
   "cell_type": "code",
   "execution_count": 4,
   "id": "60e89dc2-7b28-4086-9660-3f06c828e056",
   "metadata": {},
   "outputs": [
    {
     "name": "stdout",
     "output_type": "stream",
     "text": [
      "10\n"
     ]
    }
   ],
   "source": [
    "print(c) #addition "
   ]
  },
  {
   "cell_type": "code",
   "execution_count": 5,
   "id": "9ee34c3a-4e2d-4b2a-acf2-0dac648745ae",
   "metadata": {},
   "outputs": [
    {
     "name": "stdout",
     "output_type": "stream",
     "text": [
      "1.0\n"
     ]
    }
   ],
   "source": [
    "print(d) #division"
   ]
  },
  {
   "cell_type": "raw",
   "id": "18667222-cef7-45e2-9fb5-8383f496a7ca",
   "metadata": {},
   "source": [
    "3. Write a Python program to find the area of a triangle?"
   ]
  },
  {
   "cell_type": "code",
   "execution_count": 11,
   "id": "15e80070-f5bd-460c-8039-6f278c81f894",
   "metadata": {},
   "outputs": [],
   "source": [
    "base=5\n",
    "width=3\n",
    "formula=0.5*base*width"
   ]
  },
  {
   "cell_type": "code",
   "execution_count": 12,
   "id": "1ef1a6c0-159f-4395-987b-44716b83530f",
   "metadata": {},
   "outputs": [
    {
     "name": "stdout",
     "output_type": "stream",
     "text": [
      "7.5\n"
     ]
    }
   ],
   "source": [
    "print(formula)"
   ]
  },
  {
   "cell_type": "raw",
   "id": "409d5215-3be8-440a-8f92-205100a94603",
   "metadata": {},
   "source": [
    "4. Write a Python program to swap two variables?"
   ]
  },
  {
   "cell_type": "code",
   "execution_count": 14,
   "id": "74bd36b2-9644-4d7b-b4cd-bbb56887c82c",
   "metadata": {},
   "outputs": [],
   "source": [
    "a=\"my name is vaibhav\""
   ]
  },
  {
   "cell_type": "code",
   "execution_count": 15,
   "id": "ab0ff65e-fdd4-4ecb-a3ab-96866f3ef635",
   "metadata": {},
   "outputs": [
    {
     "data": {
      "text/plain": [
       "'vahbiav si eman ym'"
      ]
     },
     "execution_count": 15,
     "metadata": {},
     "output_type": "execute_result"
    }
   ],
   "source": [
    "a[::-1]"
   ]
  },
  {
   "cell_type": "code",
   "execution_count": 17,
   "id": "ec1fe194-e485-4528-beb5-202c244b979a",
   "metadata": {},
   "outputs": [],
   "source": [
    "b=[3,5,67,89,\"vaibhav\"]"
   ]
  },
  {
   "cell_type": "code",
   "execution_count": 18,
   "id": "9f3ca539-1b03-4653-85e7-4b7b6e10a442",
   "metadata": {},
   "outputs": [
    {
     "data": {
      "text/plain": [
       "['vaibhav', 89, 67, 5, 3]"
      ]
     },
     "execution_count": 18,
     "metadata": {},
     "output_type": "execute_result"
    }
   ],
   "source": [
    "b[::-1]"
   ]
  },
  {
   "cell_type": "raw",
   "id": "287d188a-6e83-411a-a192-ad67c0ba0e36",
   "metadata": {},
   "source": [
    "5. Write a Python program to generate a random number?"
   ]
  },
  {
   "cell_type": "code",
   "execution_count": 21,
   "id": "31a46a95-6833-4dd8-b451-f48e2933708f",
   "metadata": {},
   "outputs": [
    {
     "name": "stdout",
     "output_type": "stream",
     "text": [
      "0.6905974259279524\n"
     ]
    }
   ],
   "source": [
    "import random\n",
    "num=random.random()\n",
    "print(num)"
   ]
  },
  {
   "cell_type": "code",
   "execution_count": 30,
   "id": "696e2cf3-c1f1-495b-967a-1b6c39ffc9e6",
   "metadata": {},
   "outputs": [
    {
     "name": "stdout",
     "output_type": "stream",
     "text": [
      "22\n"
     ]
    }
   ],
   "source": [
    "import random\n",
    "\n",
    "print(random.randint(0,100))"
   ]
  },
  {
   "cell_type": "code",
   "execution_count": null,
   "id": "7186c54f-a2db-488c-aa61-cc2bf010365c",
   "metadata": {},
   "outputs": [],
   "source": []
  }
 ],
 "metadata": {
  "kernelspec": {
   "display_name": "Python 3 (ipykernel)",
   "language": "python",
   "name": "python3"
  },
  "language_info": {
   "codemirror_mode": {
    "name": "ipython",
    "version": 3
   },
   "file_extension": ".py",
   "mimetype": "text/x-python",
   "name": "python",
   "nbconvert_exporter": "python",
   "pygments_lexer": "ipython3",
   "version": "3.10.6"
  }
 },
 "nbformat": 4,
 "nbformat_minor": 5
}
