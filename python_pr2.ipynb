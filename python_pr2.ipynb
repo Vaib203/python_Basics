{
 "cells": [
  {
   "cell_type": "raw",
   "id": "0b234aab-f5a3-41b9-abd2-e70d4592e015",
   "metadata": {},
   "source": [
    "1. Write a Python program to convert kilometers to miles?"
   ]
  },
  {
   "cell_type": "code",
   "execution_count": 7,
   "id": "54e89155-2bc8-42f7-8d73-83377662fd1a",
   "metadata": {},
   "outputs": [
    {
     "name": "stdin",
     "output_type": "stream",
     "text": [
      "enter number which you want to convert into miles:  7\n"
     ]
    },
    {
     "name": "stdout",
     "output_type": "stream",
     "text": [
      "conversion into miles is 4.34959\n"
     ]
    }
   ],
   "source": [
    "a=float(input(\"enter number which you want to convert into miles: \"))\n",
    "b=a*0.62137\n",
    "print(\"conversion into miles is\",b)"
   ]
  },
  {
   "cell_type": "raw",
   "id": "3db8258b-5365-4f54-b2ba-b8ea5caddb74",
   "metadata": {},
   "source": [
    "2. Write a Python program to convert Celsius to Fahrenheit?"
   ]
  },
  {
   "cell_type": "code",
   "execution_count": 10,
   "id": "47a5c030-734d-4e79-84be-c5914591b730",
   "metadata": {},
   "outputs": [
    {
     "name": "stdin",
     "output_type": "stream",
     "text": [
      "enter temperature in 'C:  21\n"
     ]
    },
    {
     "name": "stdout",
     "output_type": "stream",
     "text": [
      "the value in Fahrenheit is 69.8\n"
     ]
    }
   ],
   "source": [
    "a= float(input(\"enter temperature in 'C: \"))\n",
    "b=(a*9/5)+32\n",
    "print(\"the value in Fahrenheit is\",b)"
   ]
  },
  {
   "cell_type": "raw",
   "id": "6e2ef40c-6491-489c-a37b-eef9144e94ec",
   "metadata": {},
   "source": [
    "3. Write a Python program to display calendar?"
   ]
  },
  {
   "cell_type": "code",
   "execution_count": 8,
   "id": "ac41a315-2e22-49bf-9ea6-c0e49729a7dd",
   "metadata": {},
   "outputs": [
    {
     "name": "stdin",
     "output_type": "stream",
     "text": [
      "enter year:  2001\n",
      "enter month:  05\n"
     ]
    },
    {
     "name": "stdout",
     "output_type": "stream",
     "text": [
      "      May 2001\n",
      "Mo Tu We Th Fr Sa Su\n",
      "    1  2  3  4  5  6\n",
      " 7  8  9 10 11 12 13\n",
      "14 15 16 17 18 19 20\n",
      "21 22 23 24 25 26 27\n",
      "28 29 30 31\n",
      "\n"
     ]
    }
   ],
   "source": [
    "import calendar\n",
    "yy = int(input(\"enter year: \"))\n",
    "mm = int(input(\"enter month: \"))\n",
    "\n",
    "print(calendar.month(yy,mm))"
   ]
  },
  {
   "cell_type": "raw",
   "id": "034d4c35-4208-4015-a18d-79cc33f83927",
   "metadata": {},
   "source": [
    "4. Write a Python program to solve quadratic equation?"
   ]
  },
  {
   "cell_type": "code",
   "execution_count": 1,
   "id": "fa25eb1e-dc3b-4de0-9bed-484c9b851096",
   "metadata": {},
   "outputs": [
    {
     "name": "stdout",
     "output_type": "stream",
     "text": [
      "The solution are (-3+0j) and (-2+0j)\n"
     ]
    }
   ],
   "source": [
    "import cmath\n",
    "\n",
    "a = 1\n",
    "b = 5\n",
    "c = 6\n",
    "\n",
    "d = (b**2) - (4*a*c)\n",
    "\n",
    "sol1 = (-b-cmath.sqrt(d))/(2*a)\n",
    "sol2 = (-b+cmath.sqrt(d))/(2*a)\n",
    "\n",
    "print('The solution are {0} and {1}'.format(sol1,sol2))"
   ]
  },
  {
   "cell_type": "raw",
   "id": "8b360008-f7d3-44f4-9d57-964604537646",
   "metadata": {},
   "source": [
    "5. Write a Python program to swap two variables without temp variable?"
   ]
  },
  {
   "cell_type": "code",
   "execution_count": 5,
   "id": "9e680d39-2730-402c-9a69-568b8084c536",
   "metadata": {},
   "outputs": [
    {
     "name": "stdout",
     "output_type": "stream",
     "text": [
      "before swapping value of x:  3 and value of y is 5\n",
      "after swapping the value of x is : 5 and the value of y is 3\n"
     ]
    }
   ],
   "source": [
    "x=3\n",
    "y=5\n",
    "\n",
    "print(\"before swapping value of x is : \",x ,\"and value of y is\",y)\n",
    "\n",
    "x,y=y,x\n",
    "\n",
    "print(\"after swapping the value of x is :\",x, \"and the value of y is\",y)"
   ]
  },
  {
   "cell_type": "code",
   "execution_count": null,
   "id": "0c4a8578-73bf-4b1d-a51a-22bcea6a4657",
   "metadata": {},
   "outputs": [],
   "source": []
  }
 ],
 "metadata": {
  "kernelspec": {
   "display_name": "Python 3 (ipykernel)",
   "language": "python",
   "name": "python3"
  },
  "language_info": {
   "codemirror_mode": {
    "name": "ipython",
    "version": 3
   },
   "file_extension": ".py",
   "mimetype": "text/x-python",
   "name": "python",
   "nbconvert_exporter": "python",
   "pygments_lexer": "ipython3",
   "version": "3.10.6"
  }
 },
 "nbformat": 4,
 "nbformat_minor": 5
}
