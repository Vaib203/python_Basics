{
 "cells": [
  {
   "cell_type": "raw",
   "id": "b58c4a3e-6c39-4fab-8480-65a5b5f06426",
   "metadata": {},
   "source": [
    "1. Write a Python Program to Check if a Number is Positive, Negative or Zero?"
   ]
  },
  {
   "cell_type": "code",
   "execution_count": 9,
   "id": "04d931f6-55fc-4c4a-8bda-21eb907eeaa1",
   "metadata": {},
   "outputs": [
    {
     "name": "stdin",
     "output_type": "stream",
     "text": [
      "Enter the number:  -3\n"
     ]
    },
    {
     "name": "stdout",
     "output_type": "stream",
     "text": [
      "negative\n"
     ]
    }
   ],
   "source": [
    "a = int(input(\"Enter the number: \"))\n",
    "\n",
    "if a==0:\n",
    "    print(\"zero\")\n",
    "elif a<0:\n",
    "    print(\"negative\")\n",
    "else:\n",
    "    print(\"positive\")"
   ]
  },
  {
   "cell_type": "raw",
   "id": "e6d62bdc-2462-4d99-88a4-39abe30c29f3",
   "metadata": {},
   "source": [
    "2. Write a Python Program to Check if a Number is Odd or Even?"
   ]
  },
  {
   "cell_type": "code",
   "execution_count": 11,
   "id": "fca0fd20-2682-4c8b-82a5-fee5c4d3a543",
   "metadata": {},
   "outputs": [
    {
     "name": "stdin",
     "output_type": "stream",
     "text": [
      "enter a number:  3\n"
     ]
    },
    {
     "name": "stdout",
     "output_type": "stream",
     "text": [
      "it is odd\n"
     ]
    }
   ],
   "source": [
    "a = int(input(\"enter a number: \"))\n",
    "\n",
    "if a%2==0:\n",
    "    print(\"it is even number\")\n",
    "    \n",
    "else:\n",
    "    print(\"it is odd\")"
   ]
  },
  {
   "cell_type": "raw",
   "id": "409b4760-31fe-419f-9ccb-323b308cefa5",
   "metadata": {},
   "source": [
    "3. Write a Python Program to Check Leap Year?"
   ]
  },
  {
   "cell_type": "code",
   "execution_count": 24,
   "id": "9eef2654-1bae-4294-813d-9c831940bb22",
   "metadata": {},
   "outputs": [
    {
     "name": "stdin",
     "output_type": "stream",
     "text": [
      "enter year:  220\n"
     ]
    },
    {
     "name": "stdout",
     "output_type": "stream",
     "text": [
      "its a leap\n"
     ]
    }
   ],
   "source": [
    "a = int(input(\"enter year: \"))\n",
    "\n",
    "if (a%400==0):\n",
    "    print(\"its a leap year\")\n",
    "    \n",
    "elif a%4==0:\n",
    "    print(\"its a leap\")\n",
    "    \n",
    "else:\n",
    "    print(\"not a leap year\")"
   ]
  },
  {
   "cell_type": "raw",
   "id": "b6aa27bf-6a36-44b5-8eba-6c565ed1f367",
   "metadata": {},
   "source": [
    "4. Write a Python Program to Check Prime Number?"
   ]
  },
  {
   "cell_type": "code",
   "execution_count": 30,
   "id": "6fb8c9aa-9d49-4fff-bd72-e0c9fe345058",
   "metadata": {},
   "outputs": [
    {
     "name": "stdin",
     "output_type": "stream",
     "text": [
      "enter number:  24\n"
     ]
    },
    {
     "name": "stdout",
     "output_type": "stream",
     "text": [
      "it is not a prime number\n"
     ]
    }
   ],
   "source": [
    "number = int(input(\"enter number: \"))\n",
    "\n",
    "if number>1:\n",
    "\n",
    "    for i in range(2,number):\n",
    "        if number%i==0:\n",
    "            print(\"it is not a prime number\")\n",
    "            break\n",
    "        \n",
    "    else:\n",
    "        print(\"it is a prime number\")\n",
    "        \n",
    "else:\n",
    "    print(\"it is not a prime number\")"
   ]
  },
  {
   "cell_type": "raw",
   "id": "bcaf0594-d84d-4f24-9e38-9f3bb011c400",
   "metadata": {},
   "source": [
    "5. Write a Python Program to Print all Prime Numbers in an Interval of 1-10000?"
   ]
  },
  {
   "cell_type": "code",
   "execution_count": null,
   "id": "b12550b3-17a1-4127-816d-83f6e65f571a",
   "metadata": {},
   "outputs": [],
   "source": []
  }
 ],
 "metadata": {
  "kernelspec": {
   "display_name": "Python 3 (ipykernel)",
   "language": "python",
   "name": "python3"
  },
  "language_info": {
   "codemirror_mode": {
    "name": "ipython",
    "version": 3
   },
   "file_extension": ".py",
   "mimetype": "text/x-python",
   "name": "python",
   "nbconvert_exporter": "python",
   "pygments_lexer": "ipython3",
   "version": "3.10.6"
  }
 },
 "nbformat": 4,
 "nbformat_minor": 5
}
